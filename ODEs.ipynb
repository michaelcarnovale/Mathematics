{
 "cells": [
  {
   "cell_type": "code",
   "execution_count": null,
   "metadata": {},
   "outputs": [],
   "source": [
    "import numpy as np\n",
    "import pandas as pd\n",
    "import matplotlib.pyplot as plt\n",
    "from scipy.integrate import odeint\n"
   ]
  },
  {
   "cell_type": "markdown",
   "metadata": {},
   "source": [
    "### Lotka-Volterra differential equations\n",
    "$$\\frac{dx}{dt} = \\alpha{x} - \\beta{x}{y}$$\n",
    "$$\\frac{dy}{dt} = \\gamma{x}{y} - \\delta{y}$$\n",
    "\n",
    "where $\\frac{dx}{dt}$ is the instantaneous rate of change in $x$ and $\\frac{dy}{dt}$ is the rate of change in $y$.  For $x$, this rate of change is a function of the state of $x$ (degree of which is controlled by parameter $\\alpha$; i.e., exponential growth of $x$ over time), subtracted by the state of $x$ multiplied by the state of $y$ (degree of which is controlled by parameter $\\beta$; i.e., a decrease with more $x$ and $y$ available in a given state of the system). In other words, $x$ increases exponentially but this increase is stopped and reduced by the presence of $y$, which itself increases with more $x$ (see second equation). For $y$, its rate of change is controlled by how many $x$ are available though it is also negatively affected by how many $y$ there are. \n",
    "\n",
    "More concretely, if $x$ is large, $y$ will start to subsequently increase, which in turn will bring down $x$, which will then in turn bring down $y$ because there aren't enough $x$ left. This process will repeat with $x$ increasing again. "
   ]
  },
  {
   "cell_type": "code",
   "execution_count": null,
   "metadata": {},
   "outputs": [],
   "source": [
    "# Set parameter values\n",
    "a = 1\n",
    "b = .38\n",
    "c = .13\n",
    "d = .38\n",
    "\n",
    "# Set initial conditions\n",
    "x0 = 10\n",
    "y0 = 5\n",
    "X0 = [x0, y0]\n",
    "\n",
    "# Set range of time\n",
    "Nt = 1000\n",
    "tmax = 50\n",
    "t = np.linspace(0, tmax, Nt)\n",
    "\n",
    "# Define ODE\n",
    "def lvdiffeq(X, t, a, b, c, d):\n",
    "    x, y, = X # Initial conditions\n",
    "    dxdt = (a*x) - (b*x*y)\n",
    "    dydt = (c*x*y) - (d*y)\n",
    "    return np.array([dxdt, dydt])\n",
    "    \n",
    "result = odeint(lvdiffeq, X0, t, args = (a, b, c, d))\n",
    "x, y = result.T\n",
    "\n",
    "plt.plot(t, x, label = 'x')\n",
    "plt.plot(t, y, label = 'y')\n",
    "plt.legend()\n",
    "plt.show()\n",
    "\n"
   ]
  },
  {
   "cell_type": "markdown",
   "metadata": {},
   "source": [
    "### Exponential growth and exponential decay differential equations\n",
    "\n",
    "That is, \n",
    "$$\\frac{dx}{dt} = \\alpha{x}$$\n",
    "and\n",
    "$$\\frac{dx}{dt} = -\\alpha{x}$$"
   ]
  },
  {
   "cell_type": "code",
   "execution_count": null,
   "metadata": {},
   "outputs": [],
   "source": [
    "## Exponential growth\n",
    "# Set parameter values\n",
    "a = [.01, .05, .1] \n",
    "\n",
    "# Set initial condition\n",
    "x0 = 10\n",
    "\n",
    "# Set range of time\n",
    "Nt = 1000\n",
    "tmax = 100\n",
    "t = np.linspace(0, tmax, Nt)\n",
    "\n",
    "# Define ODE\n",
    "def expgrow(X, t, a):\n",
    "    x = X # Initial condition\n",
    "    dxdt = (a*x)\n",
    "    return np.array(dxdt)\n",
    "\n",
    "# Return values of x over time\n",
    "result = odeint(expgrow, x0, t, args = (a,))\n",
    "x = result\n",
    "\n",
    "plt.plot(t, x)\n",
    "plt.show()"
   ]
  },
  {
   "cell_type": "code",
   "execution_count": null,
   "metadata": {},
   "outputs": [],
   "source": [
    "## Exponential decay\n",
    "# Set parameter values\n",
    "a = .05\n",
    "\n",
    "# Set initial condition\n",
    "x0 = 1000\n",
    "\n",
    "# Set range of time\n",
    "Nt = 1000\n",
    "tmax = 100\n",
    "t = np.linspace(0, tmax, Nt)\n",
    "\n",
    "# Define ODE\n",
    "def expdec(X, t, a):\n",
    "    x = X # Initial condition\n",
    "    dxdt = -(a*x)\n",
    "    return np.array(dxdt)\n",
    "\n",
    "# Return values of x over time\n",
    "result = odeint(expdec, x0, t, args = (a,))\n",
    "x = result\n",
    "\n",
    "plt.plot(t, x)\n",
    "plt.show()"
   ]
  },
  {
   "cell_type": "markdown",
   "metadata": {},
   "source": [
    "### Logistic ODE \n",
    "\n",
    "$$\\frac{dx}{dt} = \\alpha{x}(1 - \\frac{x}{b})$$\n",
    "\n",
    "This equation is saying that $x$ will start to grow exponentially but as $x$ becomes closer and closer to $b$ the growth will slow down, eventually stopping (effectively creating a logistic curve).\n"
   ]
  },
  {
   "cell_type": "code",
   "execution_count": null,
   "metadata": {},
   "outputs": [],
   "source": [
    "## Logistic growth\n",
    "# Set parameter values\n",
    "a = .07 # Setting this larger will cause x to reach its limit quicker\n",
    "b = 500 \n",
    "\n",
    "# Set initial condition\n",
    "x0 = 10\n",
    "\n",
    "# Set range of time\n",
    "Nt = 1000\n",
    "tmax = 250\n",
    "t = np.linspace(0, tmax, Nt)\n",
    "\n",
    "# Define ODE\n",
    "def loggrow(X, t, a, b):\n",
    "    x = X # Initial condition\n",
    "    dxdt = a*x * (1 - (x/b))\n",
    "    return np.array(dxdt)\n",
    "\n",
    "# Return values of x over time\n",
    "result = odeint(loggrow, x0, t, args = (a, b))\n",
    "x = result\n",
    "\n",
    "plt.plot(t, x)\n",
    "plt.show()"
   ]
  },
  {
   "cell_type": "markdown",
   "metadata": {},
   "source": [
    "### Newton's Law of Cooling\n",
    "\n",
    "$$\\frac{dT}{dt} = K(T - A)$$\n",
    "\n",
    "where $T$ is the temperature of a system at a given point in time, $A$ is the temperature of the system's surroundings, and $K$ determines how quickly the cooling will happen."
   ]
  },
  {
   "cell_type": "code",
   "execution_count": null,
   "metadata": {},
   "outputs": [],
   "source": [
    "## Newton's Law of Cooling\n",
    "# Set parameter values\n",
    "k = -.1\n",
    "a = 20 # In celsius\n",
    "\n",
    "# Set initial condition\n",
    "temp0 = 175 \n",
    "\n",
    "# Set range of time\n",
    "Nt = 1000\n",
    "tmax = 100\n",
    "t = np.linspace(0, tmax, Nt)\n",
    "\n",
    "# Define ODE\n",
    "def cooling(X, t, k, a):\n",
    "    temp = X # Initial condition\n",
    "    dTdt = k * (temp - a)\n",
    "    return np.array(dTdt)\n",
    "\n",
    "# Return values of T over time\n",
    "result = odeint(cooling, temp0, t, args = (k, a))\n",
    "temp = result\n",
    "\n",
    "plt.plot(t, temp)\n",
    "plt.show()"
   ]
  },
  {
   "cell_type": "code",
   "execution_count": null,
   "metadata": {},
   "outputs": [],
   "source": [
    "## Newton's Law of Heating\n",
    "# Set parameter values\n",
    "k = -.1\n",
    "a = 35 # In celsius\n",
    "\n",
    "# Set initial condition\n",
    "temp0 = 1\n",
    "\n",
    "# Set range of time\n",
    "Nt = 1000\n",
    "tmax = 100\n",
    "t = np.linspace(0, tmax, Nt)\n",
    "\n",
    "# Define ODE\n",
    "def heating(X, t, k, a):\n",
    "    temp = X # Initial condition\n",
    "    dTdt = k * (temp - a)\n",
    "    return np.array(dTdt)\n",
    "\n",
    "# Return values of T over time\n",
    "result = odeint(heating, temp0, t, args = (k, a))\n",
    "temp = result\n",
    "\n",
    "plt.plot(t, temp)\n",
    "plt.show()"
   ]
  }
 ],
 "metadata": {
  "interpreter": {
   "hash": "34368ba4908ea1be08ba769dfb7764ab7f8ead2384ebb5604cb86637573696f7"
  },
  "kernelspec": {
   "display_name": "Python 3.8.12 64-bit (conda)",
   "language": "python",
   "name": "python3"
  },
  "language_info": {
   "codemirror_mode": {
    "name": "ipython",
    "version": 3
   },
   "file_extension": ".py",
   "mimetype": "text/x-python",
   "name": "python",
   "nbconvert_exporter": "python",
   "pygments_lexer": "ipython3",
   "version": "3.8.12"
  },
  "orig_nbformat": 4
 },
 "nbformat": 4,
 "nbformat_minor": 2
}
